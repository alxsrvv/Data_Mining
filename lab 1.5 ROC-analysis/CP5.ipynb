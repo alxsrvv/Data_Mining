{
 "cells": [
  {
   "cell_type": "markdown",
   "metadata": {},
   "source": [
    "<h3>Serov Alexander BS-81</h3>\n",
    "<h4>ROC-анализ</h4>"
   ]
  },
  {
   "cell_type": "code",
   "execution_count": 32,
   "metadata": {},
   "outputs": [],
   "source": [
    "import random\n",
    "import numpy as np\n",
    "import pandas as pd\n",
    "import matplotlib.pyplot as plt "
   ]
  },
  {
   "cell_type": "code",
   "execution_count": 33,
   "metadata": {},
   "outputs": [
    {
     "output_type": "execute_result",
     "data": {
      "text/plain": [
       "array([10, 13, 13, 14, 15, 15, 15, 16, 17, 18, 19, 20, 20, 22, 23, 23, 24,\n",
       "       25, 28, 28, 28, 29, 30, 31, 31, 31, 32, 33, 36, 36, 37, 38, 39, 39,\n",
       "       39, 41, 43, 44, 46, 46, 48, 48, 49, 50, 53, 53, 55, 56, 56, 57, 58,\n",
       "       58, 58, 58, 59, 59, 59, 60, 62, 62, 63, 64, 65, 66, 67, 68, 69, 71,\n",
       "       72, 72, 73, 74, 74, 75, 76, 77, 77, 78, 79, 80, 81, 81, 82, 84, 84,\n",
       "       87, 88, 91, 91, 92, 92, 92, 92, 94, 95, 95, 95, 97, 98, 98])"
      ]
     },
     "metadata": {},
     "execution_count": 33
    }
   ],
   "source": [
    "np.random.seed()\n",
    "data = np.random.randint(10,101, size=100)\n",
    "data.sort()\n",
    "\n",
    "data"
   ]
  },
  {
   "cell_type": "code",
   "execution_count": 34,
   "metadata": {},
   "outputs": [
    {
     "output_type": "execute_result",
     "data": {
      "text/plain": [
       "array([0, 0, 0, 0, 0, 0, 0, 0, 0, 0, 0, 0, 0, 0, 0, 0, 0, 0, 0, 0, 0, 0,\n",
       "       0, 0, 0, 0, 0, 0, 0, 0, 0, 0, 0, 0, 0, 1, 1, 0, 0, 0, 0, 0, 0, 0,\n",
       "       0, 0, 1, 1, 1, 1, 0, 1, 1, 0, 0, 0, 1, 1, 1, 1, 1, 1, 1, 1, 1, 1,\n",
       "       1, 1, 1, 1, 1, 1, 1, 1, 1, 1, 1, 1, 1, 1, 1, 1, 1, 1, 1, 1, 1, 1,\n",
       "       1, 1, 1, 1, 1, 1, 1, 1, 1, 1, 1, 1])"
      ]
     },
     "metadata": {},
     "execution_count": 34
    }
   ],
   "source": [
    "data2 = data.copy()\n",
    "for x in range(100):\n",
    "    if data2[x] <= 40:\n",
    "        data2[x] = 0\n",
    "    elif data2[x] >= 60:\n",
    "        data2[x] = 1\n",
    "    else:\n",
    "        data2[x] = random.choice([0,1])\n",
    "\n",
    "data2"
   ]
  },
  {
   "cell_type": "code",
   "execution_count": 35,
   "metadata": {},
   "outputs": [],
   "source": [
    "table = None\n",
    "\n",
    "def get_Se_Sp(data, binary, threshold):\n",
    "    table = []\n",
    "    for x in data:\n",
    "        bool_mask = data >= x\n",
    "        lenth = len(bool_mask)\n",
    "        \n",
    "        TP = len([1 for i in range(lenth) if binary[i] == bool_mask[i] == 1])\n",
    "        TN = len([1 for i in range(lenth) if binary[i] == bool_mask[i] == 0])\n",
    "        FN = len([1 for i in range(lenth) if binary[i] == 1 and bool_mask[i] == 0])\n",
    "        FP = len([1 for i in range(lenth) if binary[i] == 0 and bool_mask[i] == 1])\n",
    "   \n",
    "        Se = TP / (TP + FN) * 100\n",
    "        Sp = TN / (TN + FP) * 100\n",
    "\n",
    "        print(Se, Sp)\n",
    "        table.append([x, Se, Sp])\n",
    "\n",
    "    table = np.asarray(table)\n",
    "    df = pd.DataFrame(table, columns =['Point', 'Sensitivity', 'Specificity'])\n",
    "    return table, df\n",
    "    "
   ]
  },
  {
   "cell_type": "code",
   "execution_count": 36,
   "metadata": {},
   "outputs": [
    {
     "output_type": "stream",
     "name": "stdout",
     "text": [
      "100.0 0.0\n100.0 2.083333333333333\n100.0 2.083333333333333\n100.0 6.25\n100.0 8.333333333333332\n100.0 8.333333333333332\n100.0 8.333333333333332\n100.0 14.583333333333334\n100.0 16.666666666666664\n100.0 18.75\n100.0 20.833333333333336\n100.0 22.916666666666664\n100.0 22.916666666666664\n100.0 27.083333333333332\n100.0 29.166666666666668\n100.0 29.166666666666668\n100.0 33.33333333333333\n100.0 35.41666666666667\n100.0 37.5\n100.0 37.5\n100.0 37.5\n100.0 43.75\n100.0 45.83333333333333\n100.0 47.91666666666667\n100.0 47.91666666666667\n100.0 47.91666666666667\n100.0 54.166666666666664\n100.0 56.25\n100.0 58.333333333333336\n100.0 58.333333333333336\n100.0 62.5\n100.0 64.58333333333334\n100.0 66.66666666666666\n100.0 66.66666666666666\n100.0 66.66666666666666\n100.0 72.91666666666666\n98.07692307692307 72.91666666666666\n96.15384615384616 72.91666666666666\n96.15384615384616 75.0\n96.15384615384616 75.0\n96.15384615384616 79.16666666666666\n96.15384615384616 79.16666666666666\n96.15384615384616 83.33333333333334\n96.15384615384616 85.41666666666666\n96.15384615384616 87.5\n96.15384615384616 87.5\n96.15384615384616 91.66666666666666\n94.23076923076923 91.66666666666666\n94.23076923076923 91.66666666666666\n90.38461538461539 91.66666666666666\n88.46153846153845 91.66666666666666\n88.46153846153845 91.66666666666666\n88.46153846153845 91.66666666666666\n88.46153846153845 91.66666666666666\n84.61538461538461 95.83333333333334\n84.61538461538461 95.83333333333334\n84.61538461538461 95.83333333333334\n82.6923076923077 100.0\n80.76923076923077 100.0\n80.76923076923077 100.0\n76.92307692307693 100.0\n75.0 100.0\n73.07692307692307 100.0\n71.15384615384616 100.0\n69.23076923076923 100.0\n67.3076923076923 100.0\n65.38461538461539 100.0\n63.46153846153846 100.0\n61.53846153846154 100.0\n61.53846153846154 100.0\n57.692307692307686 100.0\n55.769230769230774 100.0\n55.769230769230774 100.0\n51.92307692307693 100.0\n50.0 100.0\n48.07692307692308 100.0\n48.07692307692308 100.0\n44.230769230769226 100.0\n42.30769230769231 100.0\n40.38461538461539 100.0\n38.46153846153847 100.0\n38.46153846153847 100.0\n34.61538461538461 100.0\n32.69230769230769 100.0\n32.69230769230769 100.0\n28.846153846153843 100.0\n26.923076923076923 100.0\n25.0 100.0\n25.0 100.0\n21.153846153846153 100.0\n21.153846153846153 100.0\n21.153846153846153 100.0\n21.153846153846153 100.0\n13.461538461538462 100.0\n11.538461538461538 100.0\n11.538461538461538 100.0\n11.538461538461538 100.0\n5.769230769230769 100.0\n3.8461538461538463 100.0\n3.8461538461538463 100.0\n"
     ]
    }
   ],
   "source": [
    "table, datafr = get_Se_Sp(data, data2, 40)\n"
   ]
  },
  {
   "cell_type": "code",
   "execution_count": 37,
   "metadata": {},
   "outputs": [
    {
     "output_type": "execute_result",
     "data": {
      "text/plain": [
       "    Point  Sensitivity  Specificity\n",
       "0    10.0   100.000000     0.000000\n",
       "1    13.0   100.000000     2.083333\n",
       "2    13.0   100.000000     2.083333\n",
       "3    14.0   100.000000     6.250000\n",
       "4    15.0   100.000000     8.333333\n",
       "..    ...          ...          ...\n",
       "95   95.0    11.538462   100.000000\n",
       "96   95.0    11.538462   100.000000\n",
       "97   97.0     5.769231   100.000000\n",
       "98   98.0     3.846154   100.000000\n",
       "99   98.0     3.846154   100.000000\n",
       "\n",
       "[100 rows x 3 columns]"
      ],
      "text/html": "<div>\n<style scoped>\n    .dataframe tbody tr th:only-of-type {\n        vertical-align: middle;\n    }\n\n    .dataframe tbody tr th {\n        vertical-align: top;\n    }\n\n    .dataframe thead th {\n        text-align: right;\n    }\n</style>\n<table border=\"1\" class=\"dataframe\">\n  <thead>\n    <tr style=\"text-align: right;\">\n      <th></th>\n      <th>Point</th>\n      <th>Sensitivity</th>\n      <th>Specificity</th>\n    </tr>\n  </thead>\n  <tbody>\n    <tr>\n      <th>0</th>\n      <td>10.0</td>\n      <td>100.000000</td>\n      <td>0.000000</td>\n    </tr>\n    <tr>\n      <th>1</th>\n      <td>13.0</td>\n      <td>100.000000</td>\n      <td>2.083333</td>\n    </tr>\n    <tr>\n      <th>2</th>\n      <td>13.0</td>\n      <td>100.000000</td>\n      <td>2.083333</td>\n    </tr>\n    <tr>\n      <th>3</th>\n      <td>14.0</td>\n      <td>100.000000</td>\n      <td>6.250000</td>\n    </tr>\n    <tr>\n      <th>4</th>\n      <td>15.0</td>\n      <td>100.000000</td>\n      <td>8.333333</td>\n    </tr>\n    <tr>\n      <th>...</th>\n      <td>...</td>\n      <td>...</td>\n      <td>...</td>\n    </tr>\n    <tr>\n      <th>95</th>\n      <td>95.0</td>\n      <td>11.538462</td>\n      <td>100.000000</td>\n    </tr>\n    <tr>\n      <th>96</th>\n      <td>95.0</td>\n      <td>11.538462</td>\n      <td>100.000000</td>\n    </tr>\n    <tr>\n      <th>97</th>\n      <td>97.0</td>\n      <td>5.769231</td>\n      <td>100.000000</td>\n    </tr>\n    <tr>\n      <th>98</th>\n      <td>98.0</td>\n      <td>3.846154</td>\n      <td>100.000000</td>\n    </tr>\n    <tr>\n      <th>99</th>\n      <td>98.0</td>\n      <td>3.846154</td>\n      <td>100.000000</td>\n    </tr>\n  </tbody>\n</table>\n<p>100 rows × 3 columns</p>\n</div>"
     },
     "metadata": {},
     "execution_count": 37
    }
   ],
   "source": [
    "datafr"
   ]
  },
  {
   "cell_type": "code",
   "execution_count": 38,
   "metadata": {},
   "outputs": [
    {
     "output_type": "display_data",
     "data": {
      "text/plain": "<Figure size 504x504 with 1 Axes>",
      "image/svg+xml": "<?xml version=\"1.0\" encoding=\"utf-8\" standalone=\"no\"?>\n<!DOCTYPE svg PUBLIC \"-//W3C//DTD SVG 1.1//EN\"\n  \"http://www.w3.org/Graphics/SVG/1.1/DTD/svg11.dtd\">\n<!-- Created with matplotlib (https://matplotlib.org/) -->\n<svg height=\"425.27625pt\" version=\"1.1\" viewBox=\"0 0 446.797837 425.27625\" width=\"446.797837pt\" xmlns=\"http://www.w3.org/2000/svg\" xmlns:xlink=\"http://www.w3.org/1999/xlink\">\n <metadata>\n  <rdf:RDF xmlns:cc=\"http://creativecommons.org/ns#\" xmlns:dc=\"http://purl.org/dc/elements/1.1/\" xmlns:rdf=\"http://www.w3.org/1999/02/22-rdf-syntax-ns#\">\n   <cc:Work>\n    <dc:type rdf:resource=\"http://purl.org/dc/dcmitype/StillImage\"/>\n    <dc:date>2020-12-09T23:10:30.545329</dc:date>\n    <dc:format>image/svg+xml</dc:format>\n    <dc:creator>\n     <cc:Agent>\n      <dc:title>Matplotlib v3.3.3, https://matplotlib.org/</dc:title>\n     </cc:Agent>\n    </dc:creator>\n   </cc:Work>\n  </rdf:RDF>\n </metadata>\n <defs>\n  <style type=\"text/css\">*{stroke-linecap:butt;stroke-linejoin:round;}</style>\n </defs>\n <g id=\"figure_1\">\n  <g id=\"patch_1\">\n   <path d=\"M 0 425.27625 \nL 446.797837 425.27625 \nL 446.797837 0 \nL 0 0 \nz\n\" style=\"fill:none;\"/>\n  </g>\n  <g id=\"axes_1\">\n   <g id=\"patch_2\">\n    <path d=\"M 46.965625 387.72 \nL 437.565625 387.72 \nL 437.565625 7.2 \nL 46.965625 7.2 \nz\n\" style=\"fill:#ffffff;\"/>\n   </g>\n   <g id=\"matplotlib.axis_1\">\n    <g id=\"xtick_1\">\n     <g id=\"line2d_1\">\n      <path clip-path=\"url(#pba5fa0884d)\" d=\"M 54.477163 387.72 \nL 54.477163 7.2 \n\" style=\"fill:none;stroke:#b0b0b0;stroke-linecap:square;stroke-width:0.8;\"/>\n     </g>\n     <g id=\"line2d_2\">\n      <defs>\n       <path d=\"M 0 0 \nL 0 3.5 \n\" id=\"mbfadf2c1b1\" style=\"stroke:#000000;stroke-width:0.8;\"/>\n      </defs>\n      <g>\n       <use style=\"stroke:#000000;stroke-width:0.8;\" x=\"54.477163\" xlink:href=\"#mbfadf2c1b1\" y=\"387.72\"/>\n      </g>\n     </g>\n     <g id=\"text_1\">\n      <!-- 0 -->\n      <g transform=\"translate(51.295913 402.318438)scale(0.1 -0.1)\">\n       <defs>\n        <path d=\"M 31.78125 66.40625 \nQ 24.171875 66.40625 20.328125 58.90625 \nQ 16.5 51.421875 16.5 36.375 \nQ 16.5 21.390625 20.328125 13.890625 \nQ 24.171875 6.390625 31.78125 6.390625 \nQ 39.453125 6.390625 43.28125 13.890625 \nQ 47.125 21.390625 47.125 36.375 \nQ 47.125 51.421875 43.28125 58.90625 \nQ 39.453125 66.40625 31.78125 66.40625 \nz\nM 31.78125 74.21875 \nQ 44.046875 74.21875 50.515625 64.515625 \nQ 56.984375 54.828125 56.984375 36.375 \nQ 56.984375 17.96875 50.515625 8.265625 \nQ 44.046875 -1.421875 31.78125 -1.421875 \nQ 19.53125 -1.421875 13.0625 8.265625 \nQ 6.59375 17.96875 6.59375 36.375 \nQ 6.59375 54.828125 13.0625 64.515625 \nQ 19.53125 74.21875 31.78125 74.21875 \nz\n\" id=\"DejaVuSans-48\"/>\n       </defs>\n       <use xlink:href=\"#DejaVuSans-48\"/>\n      </g>\n     </g>\n    </g>\n    <g id=\"xtick_2\">\n     <g id=\"line2d_3\">\n      <path clip-path=\"url(#pba5fa0884d)\" d=\"M 129.592548 387.72 \nL 129.592548 7.2 \n\" style=\"fill:none;stroke:#b0b0b0;stroke-linecap:square;stroke-width:0.8;\"/>\n     </g>\n     <g id=\"line2d_4\">\n      <g>\n       <use style=\"stroke:#000000;stroke-width:0.8;\" x=\"129.592548\" xlink:href=\"#mbfadf2c1b1\" y=\"387.72\"/>\n      </g>\n     </g>\n     <g id=\"text_2\">\n      <!-- 20 -->\n      <g transform=\"translate(123.230048 402.318438)scale(0.1 -0.1)\">\n       <defs>\n        <path d=\"M 19.1875 8.296875 \nL 53.609375 8.296875 \nL 53.609375 0 \nL 7.328125 0 \nL 7.328125 8.296875 \nQ 12.9375 14.109375 22.625 23.890625 \nQ 32.328125 33.6875 34.8125 36.53125 \nQ 39.546875 41.84375 41.421875 45.53125 \nQ 43.3125 49.21875 43.3125 52.78125 \nQ 43.3125 58.59375 39.234375 62.25 \nQ 35.15625 65.921875 28.609375 65.921875 \nQ 23.96875 65.921875 18.8125 64.3125 \nQ 13.671875 62.703125 7.8125 59.421875 \nL 7.8125 69.390625 \nQ 13.765625 71.78125 18.9375 73 \nQ 24.125 74.21875 28.421875 74.21875 \nQ 39.75 74.21875 46.484375 68.546875 \nQ 53.21875 62.890625 53.21875 53.421875 \nQ 53.21875 48.921875 51.53125 44.890625 \nQ 49.859375 40.875 45.40625 35.40625 \nQ 44.1875 33.984375 37.640625 27.21875 \nQ 31.109375 20.453125 19.1875 8.296875 \nz\n\" id=\"DejaVuSans-50\"/>\n       </defs>\n       <use xlink:href=\"#DejaVuSans-50\"/>\n       <use x=\"63.623047\" xlink:href=\"#DejaVuSans-48\"/>\n      </g>\n     </g>\n    </g>\n    <g id=\"xtick_3\">\n     <g id=\"line2d_5\">\n      <path clip-path=\"url(#pba5fa0884d)\" d=\"M 204.707933 387.72 \nL 204.707933 7.2 \n\" style=\"fill:none;stroke:#b0b0b0;stroke-linecap:square;stroke-width:0.8;\"/>\n     </g>\n     <g id=\"line2d_6\">\n      <g>\n       <use style=\"stroke:#000000;stroke-width:0.8;\" x=\"204.707933\" xlink:href=\"#mbfadf2c1b1\" y=\"387.72\"/>\n      </g>\n     </g>\n     <g id=\"text_3\">\n      <!-- 40 -->\n      <g transform=\"translate(198.345433 402.318438)scale(0.1 -0.1)\">\n       <defs>\n        <path d=\"M 37.796875 64.3125 \nL 12.890625 25.390625 \nL 37.796875 25.390625 \nz\nM 35.203125 72.90625 \nL 47.609375 72.90625 \nL 47.609375 25.390625 \nL 58.015625 25.390625 \nL 58.015625 17.1875 \nL 47.609375 17.1875 \nL 47.609375 0 \nL 37.796875 0 \nL 37.796875 17.1875 \nL 4.890625 17.1875 \nL 4.890625 26.703125 \nz\n\" id=\"DejaVuSans-52\"/>\n       </defs>\n       <use xlink:href=\"#DejaVuSans-52\"/>\n       <use x=\"63.623047\" xlink:href=\"#DejaVuSans-48\"/>\n      </g>\n     </g>\n    </g>\n    <g id=\"xtick_4\">\n     <g id=\"line2d_7\">\n      <path clip-path=\"url(#pba5fa0884d)\" d=\"M 279.823317 387.72 \nL 279.823317 7.2 \n\" style=\"fill:none;stroke:#b0b0b0;stroke-linecap:square;stroke-width:0.8;\"/>\n     </g>\n     <g id=\"line2d_8\">\n      <g>\n       <use style=\"stroke:#000000;stroke-width:0.8;\" x=\"279.823317\" xlink:href=\"#mbfadf2c1b1\" y=\"387.72\"/>\n      </g>\n     </g>\n     <g id=\"text_4\">\n      <!-- 60 -->\n      <g transform=\"translate(273.460817 402.318438)scale(0.1 -0.1)\">\n       <defs>\n        <path d=\"M 33.015625 40.375 \nQ 26.375 40.375 22.484375 35.828125 \nQ 18.609375 31.296875 18.609375 23.390625 \nQ 18.609375 15.53125 22.484375 10.953125 \nQ 26.375 6.390625 33.015625 6.390625 \nQ 39.65625 6.390625 43.53125 10.953125 \nQ 47.40625 15.53125 47.40625 23.390625 \nQ 47.40625 31.296875 43.53125 35.828125 \nQ 39.65625 40.375 33.015625 40.375 \nz\nM 52.59375 71.296875 \nL 52.59375 62.3125 \nQ 48.875 64.0625 45.09375 64.984375 \nQ 41.3125 65.921875 37.59375 65.921875 \nQ 27.828125 65.921875 22.671875 59.328125 \nQ 17.53125 52.734375 16.796875 39.40625 \nQ 19.671875 43.65625 24.015625 45.921875 \nQ 28.375 48.1875 33.59375 48.1875 \nQ 44.578125 48.1875 50.953125 41.515625 \nQ 57.328125 34.859375 57.328125 23.390625 \nQ 57.328125 12.15625 50.6875 5.359375 \nQ 44.046875 -1.421875 33.015625 -1.421875 \nQ 20.359375 -1.421875 13.671875 8.265625 \nQ 6.984375 17.96875 6.984375 36.375 \nQ 6.984375 53.65625 15.1875 63.9375 \nQ 23.390625 74.21875 37.203125 74.21875 \nQ 40.921875 74.21875 44.703125 73.484375 \nQ 48.484375 72.75 52.59375 71.296875 \nz\n\" id=\"DejaVuSans-54\"/>\n       </defs>\n       <use xlink:href=\"#DejaVuSans-54\"/>\n       <use x=\"63.623047\" xlink:href=\"#DejaVuSans-48\"/>\n      </g>\n     </g>\n    </g>\n    <g id=\"xtick_5\">\n     <g id=\"line2d_9\">\n      <path clip-path=\"url(#pba5fa0884d)\" d=\"M 354.938702 387.72 \nL 354.938702 7.2 \n\" style=\"fill:none;stroke:#b0b0b0;stroke-linecap:square;stroke-width:0.8;\"/>\n     </g>\n     <g id=\"line2d_10\">\n      <g>\n       <use style=\"stroke:#000000;stroke-width:0.8;\" x=\"354.938702\" xlink:href=\"#mbfadf2c1b1\" y=\"387.72\"/>\n      </g>\n     </g>\n     <g id=\"text_5\">\n      <!-- 80 -->\n      <g transform=\"translate(348.576202 402.318438)scale(0.1 -0.1)\">\n       <defs>\n        <path d=\"M 31.78125 34.625 \nQ 24.75 34.625 20.71875 30.859375 \nQ 16.703125 27.09375 16.703125 20.515625 \nQ 16.703125 13.921875 20.71875 10.15625 \nQ 24.75 6.390625 31.78125 6.390625 \nQ 38.8125 6.390625 42.859375 10.171875 \nQ 46.921875 13.96875 46.921875 20.515625 \nQ 46.921875 27.09375 42.890625 30.859375 \nQ 38.875 34.625 31.78125 34.625 \nz\nM 21.921875 38.8125 \nQ 15.578125 40.375 12.03125 44.71875 \nQ 8.5 49.078125 8.5 55.328125 \nQ 8.5 64.0625 14.71875 69.140625 \nQ 20.953125 74.21875 31.78125 74.21875 \nQ 42.671875 74.21875 48.875 69.140625 \nQ 55.078125 64.0625 55.078125 55.328125 \nQ 55.078125 49.078125 51.53125 44.71875 \nQ 48 40.375 41.703125 38.8125 \nQ 48.828125 37.15625 52.796875 32.3125 \nQ 56.78125 27.484375 56.78125 20.515625 \nQ 56.78125 9.90625 50.3125 4.234375 \nQ 43.84375 -1.421875 31.78125 -1.421875 \nQ 19.734375 -1.421875 13.25 4.234375 \nQ 6.78125 9.90625 6.78125 20.515625 \nQ 6.78125 27.484375 10.78125 32.3125 \nQ 14.796875 37.15625 21.921875 38.8125 \nz\nM 18.3125 54.390625 \nQ 18.3125 48.734375 21.84375 45.5625 \nQ 25.390625 42.390625 31.78125 42.390625 \nQ 38.140625 42.390625 41.71875 45.5625 \nQ 45.3125 48.734375 45.3125 54.390625 \nQ 45.3125 60.0625 41.71875 63.234375 \nQ 38.140625 66.40625 31.78125 66.40625 \nQ 25.390625 66.40625 21.84375 63.234375 \nQ 18.3125 60.0625 18.3125 54.390625 \nz\n\" id=\"DejaVuSans-56\"/>\n       </defs>\n       <use xlink:href=\"#DejaVuSans-56\"/>\n       <use x=\"63.623047\" xlink:href=\"#DejaVuSans-48\"/>\n      </g>\n     </g>\n    </g>\n    <g id=\"xtick_6\">\n     <g id=\"line2d_11\">\n      <path clip-path=\"url(#pba5fa0884d)\" d=\"M 430.054087 387.72 \nL 430.054087 7.2 \n\" style=\"fill:none;stroke:#b0b0b0;stroke-linecap:square;stroke-width:0.8;\"/>\n     </g>\n     <g id=\"line2d_12\">\n      <g>\n       <use style=\"stroke:#000000;stroke-width:0.8;\" x=\"430.054087\" xlink:href=\"#mbfadf2c1b1\" y=\"387.72\"/>\n      </g>\n     </g>\n     <g id=\"text_6\">\n      <!-- 100 -->\n      <g transform=\"translate(420.510337 402.318438)scale(0.1 -0.1)\">\n       <defs>\n        <path d=\"M 12.40625 8.296875 \nL 28.515625 8.296875 \nL 28.515625 63.921875 \nL 10.984375 60.40625 \nL 10.984375 69.390625 \nL 28.421875 72.90625 \nL 38.28125 72.90625 \nL 38.28125 8.296875 \nL 54.390625 8.296875 \nL 54.390625 0 \nL 12.40625 0 \nz\n\" id=\"DejaVuSans-49\"/>\n       </defs>\n       <use xlink:href=\"#DejaVuSans-49\"/>\n       <use x=\"63.623047\" xlink:href=\"#DejaVuSans-48\"/>\n       <use x=\"127.246094\" xlink:href=\"#DejaVuSans-48\"/>\n      </g>\n     </g>\n    </g>\n    <g id=\"text_7\">\n     <!-- 100-Spec -->\n     <g transform=\"translate(218.74375 415.996562)scale(0.1 -0.1)\">\n      <defs>\n       <path d=\"M 4.890625 31.390625 \nL 31.203125 31.390625 \nL 31.203125 23.390625 \nL 4.890625 23.390625 \nz\n\" id=\"DejaVuSans-45\"/>\n       <path d=\"M 53.515625 70.515625 \nL 53.515625 60.890625 \nQ 47.90625 63.578125 42.921875 64.890625 \nQ 37.9375 66.21875 33.296875 66.21875 \nQ 25.25 66.21875 20.875 63.09375 \nQ 16.5 59.96875 16.5 54.203125 \nQ 16.5 49.359375 19.40625 46.890625 \nQ 22.3125 44.4375 30.421875 42.921875 \nL 36.375 41.703125 \nQ 47.40625 39.59375 52.65625 34.296875 \nQ 57.90625 29 57.90625 20.125 \nQ 57.90625 9.515625 50.796875 4.046875 \nQ 43.703125 -1.421875 29.984375 -1.421875 \nQ 24.8125 -1.421875 18.96875 -0.25 \nQ 13.140625 0.921875 6.890625 3.21875 \nL 6.890625 13.375 \nQ 12.890625 10.015625 18.65625 8.296875 \nQ 24.421875 6.59375 29.984375 6.59375 \nQ 38.421875 6.59375 43.015625 9.90625 \nQ 47.609375 13.234375 47.609375 19.390625 \nQ 47.609375 24.75 44.3125 27.78125 \nQ 41.015625 30.8125 33.5 32.328125 \nL 27.484375 33.5 \nQ 16.453125 35.6875 11.515625 40.375 \nQ 6.59375 45.0625 6.59375 53.421875 \nQ 6.59375 63.09375 13.40625 68.65625 \nQ 20.21875 74.21875 32.171875 74.21875 \nQ 37.3125 74.21875 42.625 73.28125 \nQ 47.953125 72.359375 53.515625 70.515625 \nz\n\" id=\"DejaVuSans-83\"/>\n       <path d=\"M 18.109375 8.203125 \nL 18.109375 -20.796875 \nL 9.078125 -20.796875 \nL 9.078125 54.6875 \nL 18.109375 54.6875 \nL 18.109375 46.390625 \nQ 20.953125 51.265625 25.265625 53.625 \nQ 29.59375 56 35.59375 56 \nQ 45.5625 56 51.78125 48.09375 \nQ 58.015625 40.1875 58.015625 27.296875 \nQ 58.015625 14.40625 51.78125 6.484375 \nQ 45.5625 -1.421875 35.59375 -1.421875 \nQ 29.59375 -1.421875 25.265625 0.953125 \nQ 20.953125 3.328125 18.109375 8.203125 \nz\nM 48.6875 27.296875 \nQ 48.6875 37.203125 44.609375 42.84375 \nQ 40.53125 48.484375 33.40625 48.484375 \nQ 26.265625 48.484375 22.1875 42.84375 \nQ 18.109375 37.203125 18.109375 27.296875 \nQ 18.109375 17.390625 22.1875 11.75 \nQ 26.265625 6.109375 33.40625 6.109375 \nQ 40.53125 6.109375 44.609375 11.75 \nQ 48.6875 17.390625 48.6875 27.296875 \nz\n\" id=\"DejaVuSans-112\"/>\n       <path d=\"M 56.203125 29.59375 \nL 56.203125 25.203125 \nL 14.890625 25.203125 \nQ 15.484375 15.921875 20.484375 11.0625 \nQ 25.484375 6.203125 34.421875 6.203125 \nQ 39.59375 6.203125 44.453125 7.46875 \nQ 49.3125 8.734375 54.109375 11.28125 \nL 54.109375 2.78125 \nQ 49.265625 0.734375 44.1875 -0.34375 \nQ 39.109375 -1.421875 33.890625 -1.421875 \nQ 20.796875 -1.421875 13.15625 6.1875 \nQ 5.515625 13.8125 5.515625 26.8125 \nQ 5.515625 40.234375 12.765625 48.109375 \nQ 20.015625 56 32.328125 56 \nQ 43.359375 56 49.78125 48.890625 \nQ 56.203125 41.796875 56.203125 29.59375 \nz\nM 47.21875 32.234375 \nQ 47.125 39.59375 43.09375 43.984375 \nQ 39.0625 48.390625 32.421875 48.390625 \nQ 24.90625 48.390625 20.390625 44.140625 \nQ 15.875 39.890625 15.1875 32.171875 \nz\n\" id=\"DejaVuSans-101\"/>\n       <path d=\"M 48.78125 52.59375 \nL 48.78125 44.1875 \nQ 44.96875 46.296875 41.140625 47.34375 \nQ 37.3125 48.390625 33.40625 48.390625 \nQ 24.65625 48.390625 19.8125 42.84375 \nQ 14.984375 37.3125 14.984375 27.296875 \nQ 14.984375 17.28125 19.8125 11.734375 \nQ 24.65625 6.203125 33.40625 6.203125 \nQ 37.3125 6.203125 41.140625 7.25 \nQ 44.96875 8.296875 48.78125 10.40625 \nL 48.78125 2.09375 \nQ 45.015625 0.34375 40.984375 -0.53125 \nQ 36.96875 -1.421875 32.421875 -1.421875 \nQ 20.0625 -1.421875 12.78125 6.34375 \nQ 5.515625 14.109375 5.515625 27.296875 \nQ 5.515625 40.671875 12.859375 48.328125 \nQ 20.21875 56 33.015625 56 \nQ 37.15625 56 41.109375 55.140625 \nQ 45.0625 54.296875 48.78125 52.59375 \nz\n\" id=\"DejaVuSans-99\"/>\n      </defs>\n      <use xlink:href=\"#DejaVuSans-49\"/>\n      <use x=\"63.623047\" xlink:href=\"#DejaVuSans-48\"/>\n      <use x=\"127.246094\" xlink:href=\"#DejaVuSans-48\"/>\n      <use x=\"190.869141\" xlink:href=\"#DejaVuSans-45\"/>\n      <use x=\"226.953125\" xlink:href=\"#DejaVuSans-83\"/>\n      <use x=\"290.429688\" xlink:href=\"#DejaVuSans-112\"/>\n      <use x=\"353.90625\" xlink:href=\"#DejaVuSans-101\"/>\n      <use x=\"415.429688\" xlink:href=\"#DejaVuSans-99\"/>\n     </g>\n    </g>\n   </g>\n   <g id=\"matplotlib.axis_2\">\n    <g id=\"ytick_1\">\n     <g id=\"line2d_13\">\n      <path clip-path=\"url(#pba5fa0884d)\" d=\"M 46.965625 380.402308 \nL 437.565625 380.402308 \n\" style=\"fill:none;stroke:#b0b0b0;stroke-linecap:square;stroke-width:0.8;\"/>\n     </g>\n     <g id=\"line2d_14\">\n      <defs>\n       <path d=\"M 0 0 \nL -3.5 0 \n\" id=\"m3160ac37b3\" style=\"stroke:#000000;stroke-width:0.8;\"/>\n      </defs>\n      <g>\n       <use style=\"stroke:#000000;stroke-width:0.8;\" x=\"46.965625\" xlink:href=\"#m3160ac37b3\" y=\"380.402308\"/>\n      </g>\n     </g>\n     <g id=\"text_8\">\n      <!-- 0 -->\n      <g transform=\"translate(33.603125 384.201526)scale(0.1 -0.1)\">\n       <use xlink:href=\"#DejaVuSans-48\"/>\n      </g>\n     </g>\n    </g>\n    <g id=\"ytick_2\">\n     <g id=\"line2d_15\">\n      <path clip-path=\"url(#pba5fa0884d)\" d=\"M 46.965625 307.225385 \nL 437.565625 307.225385 \n\" style=\"fill:none;stroke:#b0b0b0;stroke-linecap:square;stroke-width:0.8;\"/>\n     </g>\n     <g id=\"line2d_16\">\n      <g>\n       <use style=\"stroke:#000000;stroke-width:0.8;\" x=\"46.965625\" xlink:href=\"#m3160ac37b3\" y=\"307.225385\"/>\n      </g>\n     </g>\n     <g id=\"text_9\">\n      <!-- 20 -->\n      <g transform=\"translate(27.240625 311.024603)scale(0.1 -0.1)\">\n       <use xlink:href=\"#DejaVuSans-50\"/>\n       <use x=\"63.623047\" xlink:href=\"#DejaVuSans-48\"/>\n      </g>\n     </g>\n    </g>\n    <g id=\"ytick_3\">\n     <g id=\"line2d_17\">\n      <path clip-path=\"url(#pba5fa0884d)\" d=\"M 46.965625 234.048462 \nL 437.565625 234.048462 \n\" style=\"fill:none;stroke:#b0b0b0;stroke-linecap:square;stroke-width:0.8;\"/>\n     </g>\n     <g id=\"line2d_18\">\n      <g>\n       <use style=\"stroke:#000000;stroke-width:0.8;\" x=\"46.965625\" xlink:href=\"#m3160ac37b3\" y=\"234.048462\"/>\n      </g>\n     </g>\n     <g id=\"text_10\">\n      <!-- 40 -->\n      <g transform=\"translate(27.240625 237.84768)scale(0.1 -0.1)\">\n       <use xlink:href=\"#DejaVuSans-52\"/>\n       <use x=\"63.623047\" xlink:href=\"#DejaVuSans-48\"/>\n      </g>\n     </g>\n    </g>\n    <g id=\"ytick_4\">\n     <g id=\"line2d_19\">\n      <path clip-path=\"url(#pba5fa0884d)\" d=\"M 46.965625 160.871538 \nL 437.565625 160.871538 \n\" style=\"fill:none;stroke:#b0b0b0;stroke-linecap:square;stroke-width:0.8;\"/>\n     </g>\n     <g id=\"line2d_20\">\n      <g>\n       <use style=\"stroke:#000000;stroke-width:0.8;\" x=\"46.965625\" xlink:href=\"#m3160ac37b3\" y=\"160.871538\"/>\n      </g>\n     </g>\n     <g id=\"text_11\">\n      <!-- 60 -->\n      <g transform=\"translate(27.240625 164.670757)scale(0.1 -0.1)\">\n       <use xlink:href=\"#DejaVuSans-54\"/>\n       <use x=\"63.623047\" xlink:href=\"#DejaVuSans-48\"/>\n      </g>\n     </g>\n    </g>\n    <g id=\"ytick_5\">\n     <g id=\"line2d_21\">\n      <path clip-path=\"url(#pba5fa0884d)\" d=\"M 46.965625 87.694615 \nL 437.565625 87.694615 \n\" style=\"fill:none;stroke:#b0b0b0;stroke-linecap:square;stroke-width:0.8;\"/>\n     </g>\n     <g id=\"line2d_22\">\n      <g>\n       <use style=\"stroke:#000000;stroke-width:0.8;\" x=\"46.965625\" xlink:href=\"#m3160ac37b3\" y=\"87.694615\"/>\n      </g>\n     </g>\n     <g id=\"text_12\">\n      <!-- 80 -->\n      <g transform=\"translate(27.240625 91.493834)scale(0.1 -0.1)\">\n       <use xlink:href=\"#DejaVuSans-56\"/>\n       <use x=\"63.623047\" xlink:href=\"#DejaVuSans-48\"/>\n      </g>\n     </g>\n    </g>\n    <g id=\"ytick_6\">\n     <g id=\"line2d_23\">\n      <path clip-path=\"url(#pba5fa0884d)\" d=\"M 46.965625 14.517692 \nL 437.565625 14.517692 \n\" style=\"fill:none;stroke:#b0b0b0;stroke-linecap:square;stroke-width:0.8;\"/>\n     </g>\n     <g id=\"line2d_24\">\n      <g>\n       <use style=\"stroke:#000000;stroke-width:0.8;\" x=\"46.965625\" xlink:href=\"#m3160ac37b3\" y=\"14.517692\"/>\n      </g>\n     </g>\n     <g id=\"text_13\">\n      <!-- 100 -->\n      <g transform=\"translate(20.878125 18.316911)scale(0.1 -0.1)\">\n       <use xlink:href=\"#DejaVuSans-49\"/>\n       <use x=\"63.623047\" xlink:href=\"#DejaVuSans-48\"/>\n       <use x=\"127.246094\" xlink:href=\"#DejaVuSans-48\"/>\n      </g>\n     </g>\n    </g>\n    <g id=\"text_14\">\n     <!-- Sens -->\n     <g transform=\"translate(14.798438 209.484219)rotate(-90)scale(0.1 -0.1)\">\n      <defs>\n       <path d=\"M 54.890625 33.015625 \nL 54.890625 0 \nL 45.90625 0 \nL 45.90625 32.71875 \nQ 45.90625 40.484375 42.875 44.328125 \nQ 39.84375 48.1875 33.796875 48.1875 \nQ 26.515625 48.1875 22.3125 43.546875 \nQ 18.109375 38.921875 18.109375 30.90625 \nL 18.109375 0 \nL 9.078125 0 \nL 9.078125 54.6875 \nL 18.109375 54.6875 \nL 18.109375 46.1875 \nQ 21.34375 51.125 25.703125 53.5625 \nQ 30.078125 56 35.796875 56 \nQ 45.21875 56 50.046875 50.171875 \nQ 54.890625 44.34375 54.890625 33.015625 \nz\n\" id=\"DejaVuSans-110\"/>\n       <path d=\"M 44.28125 53.078125 \nL 44.28125 44.578125 \nQ 40.484375 46.53125 36.375 47.5 \nQ 32.28125 48.484375 27.875 48.484375 \nQ 21.1875 48.484375 17.84375 46.4375 \nQ 14.5 44.390625 14.5 40.28125 \nQ 14.5 37.15625 16.890625 35.375 \nQ 19.28125 33.59375 26.515625 31.984375 \nL 29.59375 31.296875 \nQ 39.15625 29.25 43.1875 25.515625 \nQ 47.21875 21.78125 47.21875 15.09375 \nQ 47.21875 7.46875 41.1875 3.015625 \nQ 35.15625 -1.421875 24.609375 -1.421875 \nQ 20.21875 -1.421875 15.453125 -0.5625 \nQ 10.6875 0.296875 5.421875 2 \nL 5.421875 11.28125 \nQ 10.40625 8.6875 15.234375 7.390625 \nQ 20.0625 6.109375 24.8125 6.109375 \nQ 31.15625 6.109375 34.5625 8.28125 \nQ 37.984375 10.453125 37.984375 14.40625 \nQ 37.984375 18.0625 35.515625 20.015625 \nQ 33.0625 21.96875 24.703125 23.78125 \nL 21.578125 24.515625 \nQ 13.234375 26.265625 9.515625 29.90625 \nQ 5.8125 33.546875 5.8125 39.890625 \nQ 5.8125 47.609375 11.28125 51.796875 \nQ 16.75 56 26.8125 56 \nQ 31.78125 56 36.171875 55.265625 \nQ 40.578125 54.546875 44.28125 53.078125 \nz\n\" id=\"DejaVuSans-115\"/>\n      </defs>\n      <use xlink:href=\"#DejaVuSans-83\"/>\n      <use x=\"63.476562\" xlink:href=\"#DejaVuSans-101\"/>\n      <use x=\"125\" xlink:href=\"#DejaVuSans-110\"/>\n      <use x=\"188.378906\" xlink:href=\"#DejaVuSans-115\"/>\n     </g>\n    </g>\n   </g>\n   <g id=\"line2d_25\">\n    <path clip-path=\"url(#pba5fa0884d)\" d=\"M 54.477163 380.402308 \nL 58.232933 376.743462 \nL 61.988702 373.084615 \nL 65.744471 369.425769 \nL 69.50024 365.766923 \nL 73.25601 362.108077 \nL 77.011779 358.449231 \nL 80.767548 354.790385 \nL 84.523317 351.131538 \nL 88.279087 347.472692 \nL 92.034856 343.813846 \nL 95.790625 340.155 \nL 99.546394 336.496154 \nL 103.302163 332.837308 \nL 107.057933 329.178462 \nL 110.813702 325.519615 \nL 114.569471 321.860769 \nL 118.32524 318.201923 \nL 122.08101 314.543077 \nL 125.836779 310.884231 \nL 129.592548 307.225385 \nL 133.348317 303.566538 \nL 137.104087 299.907692 \nL 140.859856 296.248846 \nL 144.615625 292.59 \nL 148.371394 288.931154 \nL 152.127163 285.272308 \nL 155.882933 281.613462 \nL 159.638702 277.954615 \nL 163.394471 274.295769 \nL 167.15024 270.636923 \nL 170.90601 266.978077 \nL 174.661779 263.319231 \nL 178.417548 259.660385 \nL 182.173317 256.001538 \nL 185.929087 252.342692 \nL 189.684856 248.683846 \nL 193.440625 245.025 \nL 197.196394 241.366154 \nL 200.952163 237.707308 \nL 204.707933 234.048462 \nL 208.463702 230.389615 \nL 212.219471 226.730769 \nL 215.97524 223.071923 \nL 219.73101 219.413077 \nL 223.486779 215.754231 \nL 227.242548 212.095385 \nL 230.998317 208.436538 \nL 234.754087 204.777692 \nL 238.509856 201.118846 \nL 242.265625 197.46 \nL 246.021394 193.801154 \nL 249.777163 190.142308 \nL 253.532933 186.483462 \nL 257.288702 182.824615 \nL 261.044471 179.165769 \nL 264.80024 175.506923 \nL 268.55601 171.848077 \nL 272.311779 168.189231 \nL 276.067548 164.530385 \nL 279.823317 160.871538 \nL 283.579087 157.212692 \nL 287.334856 153.553846 \nL 291.090625 149.895 \nL 294.846394 146.236154 \nL 298.602163 142.577308 \nL 302.357933 138.918462 \nL 306.113702 135.259615 \nL 309.869471 131.600769 \nL 313.62524 127.941923 \nL 317.38101 124.283077 \nL 321.136779 120.624231 \nL 324.892548 116.965385 \nL 328.648317 113.306538 \nL 332.404087 109.647692 \nL 336.159856 105.988846 \nL 339.915625 102.33 \nL 343.671394 98.671154 \nL 347.427163 95.012308 \nL 351.182933 91.353462 \nL 354.938702 87.694615 \nL 358.694471 84.035769 \nL 362.45024 80.376923 \nL 366.20601 76.718077 \nL 369.961779 73.059231 \nL 373.717548 69.400385 \nL 377.473317 65.741538 \nL 381.229087 62.082692 \nL 384.984856 58.423846 \nL 388.740625 54.765 \nL 392.496394 51.106154 \nL 396.252163 47.447308 \nL 400.007933 43.788462 \nL 403.763702 40.129615 \nL 407.519471 36.470769 \nL 411.27524 32.811923 \nL 415.03101 29.153077 \nL 418.786779 25.494231 \nL 422.542548 21.835385 \nL 426.298317 18.176538 \nL 430.054087 14.517692 \n\" style=\"fill:none;stroke:#1f77b4;stroke-dasharray:5.55,2.4;stroke-dashoffset:0;stroke-width:1.5;\"/>\n   </g>\n   <g id=\"line2d_26\">\n    <path clip-path=\"url(#pba5fa0884d)\" d=\"M 430.054087 14.517692 \nL 422.229567 14.517692 \nL 422.229567 14.517692 \nL 406.580529 14.517692 \nL 398.75601 14.517692 \nL 398.75601 14.517692 \nL 398.75601 14.517692 \nL 375.282452 14.517692 \nL 367.457933 14.517692 \nL 359.633413 14.517692 \nL 351.808894 14.517692 \nL 343.984375 14.517692 \nL 343.984375 14.517692 \nL 328.335337 14.517692 \nL 320.510817 14.517692 \nL 320.510817 14.517692 \nL 304.861779 14.517692 \nL 297.03726 14.517692 \nL 289.21274 14.517692 \nL 289.21274 14.517692 \nL 289.21274 14.517692 \nL 265.739183 14.517692 \nL 257.914663 14.517692 \nL 250.090144 14.517692 \nL 250.090144 14.517692 \nL 250.090144 14.517692 \nL 226.616587 14.517692 \nL 218.792067 14.517692 \nL 210.967548 14.517692 \nL 210.967548 14.517692 \nL 195.31851 14.517692 \nL 187.49399 14.517692 \nL 179.669471 14.517692 \nL 179.669471 14.517692 \nL 179.669471 14.517692 \nL 156.195913 14.517692 \nL 156.195913 21.553935 \nL 156.195913 28.590178 \nL 148.371394 28.590178 \nL 148.371394 28.590178 \nL 132.722356 28.590178 \nL 132.722356 28.590178 \nL 117.073317 28.590178 \nL 109.248798 28.590178 \nL 101.424279 28.590178 \nL 101.424279 28.590178 \nL 85.77524 28.590178 \nL 85.77524 35.62642 \nL 85.77524 35.62642 \nL 85.77524 49.698905 \nL 85.77524 56.735148 \nL 85.77524 56.735148 \nL 85.77524 56.735148 \nL 85.77524 56.735148 \nL 70.126202 70.807633 \nL 70.126202 70.807633 \nL 70.126202 70.807633 \nL 54.477163 77.843876 \nL 54.477163 84.880118 \nL 54.477163 84.880118 \nL 54.477163 98.952604 \nL 54.477163 105.988846 \nL 54.477163 113.025089 \nL 54.477163 120.061331 \nL 54.477163 127.097574 \nL 54.477163 134.133817 \nL 54.477163 141.170059 \nL 54.477163 148.206302 \nL 54.477163 155.242544 \nL 54.477163 155.242544 \nL 54.477163 169.31503 \nL 54.477163 176.351272 \nL 54.477163 176.351272 \nL 54.477163 190.423757 \nL 54.477163 197.46 \nL 54.477163 204.496243 \nL 54.477163 204.496243 \nL 54.477163 218.568728 \nL 54.477163 225.60497 \nL 54.477163 232.641213 \nL 54.477163 239.677456 \nL 54.477163 239.677456 \nL 54.477163 253.749941 \nL 54.477163 260.786183 \nL 54.477163 260.786183 \nL 54.477163 274.858669 \nL 54.477163 281.894911 \nL 54.477163 288.931154 \nL 54.477163 288.931154 \nL 54.477163 303.003639 \nL 54.477163 303.003639 \nL 54.477163 303.003639 \nL 54.477163 303.003639 \nL 54.477163 331.148609 \nL 54.477163 338.184852 \nL 54.477163 338.184852 \nL 54.477163 338.184852 \nL 54.477163 359.29358 \nL 54.477163 366.329822 \nL 54.477163 380.402308 \nL 54.477163 366.329822 \n\" style=\"fill:none;stroke:#ff7f0e;stroke-linecap:square;stroke-width:1.5;\"/>\n   </g>\n   <g id=\"patch_3\">\n    <path d=\"M 46.965625 387.72 \nL 46.965625 7.2 \n\" style=\"fill:none;stroke:#000000;stroke-linecap:square;stroke-linejoin:miter;stroke-width:0.8;\"/>\n   </g>\n   <g id=\"patch_4\">\n    <path d=\"M 437.565625 387.72 \nL 437.565625 7.2 \n\" style=\"fill:none;stroke:#000000;stroke-linecap:square;stroke-linejoin:miter;stroke-width:0.8;\"/>\n   </g>\n   <g id=\"patch_5\">\n    <path d=\"M 46.965625 387.72 \nL 437.565625 387.72 \n\" style=\"fill:none;stroke:#000000;stroke-linecap:square;stroke-linejoin:miter;stroke-width:0.8;\"/>\n   </g>\n   <g id=\"patch_6\">\n    <path d=\"M 46.965625 7.2 \nL 437.565625 7.2 \n\" style=\"fill:none;stroke:#000000;stroke-linecap:square;stroke-linejoin:miter;stroke-width:0.8;\"/>\n   </g>\n  </g>\n </g>\n <defs>\n  <clipPath id=\"pba5fa0884d\">\n   <rect height=\"380.52\" width=\"390.6\" x=\"46.965625\" y=\"7.2\"/>\n  </clipPath>\n </defs>\n</svg>\n",
      "image/png": "[encoded data removed]"
     },
     "metadata": {
      "needs_background": "light"
     }
    }
   ],
   "source": [
    "def plot_table(data):\n",
    "        fig = plt.figure(figsize=(7,7))\n",
    "        ax = fig.add_subplot(111)\n",
    "        ax.set_ylim((-2, 102))\n",
    "        ax.set_xlim((-2, 102)) \n",
    "\n",
    "        ax.plot(np.arange(101), np.arange(101), '--')\n",
    "        ax.grid()\n",
    "\n",
    "        x = 100 - data[:,2] \n",
    "\n",
    "        y = data[:,1]      \n",
    "        x = np.insert(x, -1, 0)\n",
    "        y = np.insert(y, -1, 0)\n",
    "        ax.plot(x, y)\n",
    "        ax.set_ylabel('Sens')\n",
    "        ax.set_xlabel('100-Spec')\n",
    "            \n",
    "plot_table(table)"
   ]
  },
  {
   "cell_type": "code",
   "execution_count": 39,
   "metadata": {},
   "outputs": [],
   "source": [
    "def maxSESP_method(data, treshold):\n",
    "    # sensivity > threshold %\n",
    "    data_above_treshold = filter(lambda x: x[1]>treshold, table) \n",
    "    # max specifity from the data_above_treshold \n",
    "    return max(data_above_treshold, key=lambda x: x[2])"
   ]
  },
  {
   "cell_type": "code",
   "execution_count": 40,
   "metadata": {},
   "outputs": [],
   "source": [
    "def sumSESP_method(data):\n",
    "    return max(data, key=lambda x: (x[1]+x[2]))"
   ]
  },
  {
   "cell_type": "code",
   "execution_count": 41,
   "metadata": {},
   "outputs": [],
   "source": [
    "def balans_method(data):\n",
    "    return min(data, key=lambda x: abs(x[1]-x[2]))"
   ]
  },
  {
   "cell_type": "code",
   "execution_count": 42,
   "metadata": {},
   "outputs": [
    {
     "output_type": "execute_result",
     "data": {
      "text/plain": [
       "{'First_method': array([ 60.        ,  82.69230769, 100.        ]),\n",
       " 'Second_method': array([55.        , 96.15384615, 91.66666667]),\n",
       " 'Third_method': array([57.        , 90.38461538, 91.66666667])}"
      ]
     },
     "metadata": {},
     "execution_count": 42
    }
   ],
   "source": [
    "opt_treshold = {\"First_method\":maxSESP_method(table, 80),\"Second_method\":sumSESP_method(table),\"Third_method\":balans_method(table)}\n",
    "\n",
    "opt_treshold"
   ]
  },
  {
   "cell_type": "code",
   "execution_count": 43,
   "metadata": {},
   "outputs": [
    {
     "output_type": "execute_result",
     "data": {
      "text/plain": [
       "0.9803685897435899"
      ]
     },
     "metadata": {},
     "execution_count": 43
    }
   ],
   "source": [
    "def AUC(data):\n",
    "    sumI = 0\n",
    "    x = 100 - data[:,2]\n",
    "    y = data[:,1]\n",
    "    for i in range(len(x)-1):\n",
    "        sumI +=(x[i]-x[i+1]) * y[i:i+2].mean()\n",
    "    return sumI / 10000 \n",
    "\n",
    "AUC(table)"
   ]
  },
  {
   "cell_type": "markdown",
   "metadata": {},
   "source": [
    "<h4>Вывод</h4>"
   ]
  },
  {
   "source": [
    "ROC-анализ является одним из самых простых методов бинарной классификации.\n",
    "В данном примере мы убедились что с его помощью можно выявить оптимальный порог отсекания данных 3-мя разными алгоритмами, которые базируются на значениях специфичности и чувствительности.\n",
    "\n",
    "В нашем случае мы полусили отличную модель со значением AUC 0.98 и хорошим изгибом графика."
   ],
   "cell_type": "markdown",
   "metadata": {}
  }
 ],
 "metadata": {
  "kernelspec": {
   "name": "python3",
   "display_name": "Python 3.9.0 64-bit",
   "metadata": {
    "interpreter": {
     "hash": "aee8b7b246df8f9039afb4144a1f6fd8d2ca17a180786b69acc140d282b71a49"
    }
   }
  },
  "language_info": {
   "codemirror_mode": {
    "name": "ipython",
    "version": 3
   },
   "file_extension": ".py",
   "mimetype": "text/x-python",
   "name": "python",
   "nbconvert_exporter": "python",
   "pygments_lexer": "ipython3",
   "version": "3.9.0-final"
  }
 },
 "nbformat": 4,
 "nbformat_minor": 2
}