{
 "metadata": {
  "language_info": {
   "codemirror_mode": {
    "name": "ipython",
    "version": 3
   },
   "file_extension": ".py",
   "mimetype": "text/x-python",
   "name": "python",
   "nbconvert_exporter": "python",
   "pygments_lexer": "ipython3",
   "version": "3.9.0-final"
  },
  "orig_nbformat": 2,
  "kernelspec": {
   "name": "python3",
   "display_name": "Python 3.9.0 64-bit",
   "metadata": {
    "interpreter": {
     "hash": "aee8b7b246df8f9039afb4144a1f6fd8d2ca17a180786b69acc140d282b71a49"
    }
   }
  }
 },
 "nbformat": 4,
 "nbformat_minor": 2,
 "cells": [
  {
   "cell_type": "code",
   "execution_count": 105,
   "metadata": {},
   "outputs": [],
   "source": [
    "import pandas as pd\n",
    "from math import factorial"
   ]
  },
  {
   "cell_type": "code",
   "execution_count": 106,
   "metadata": {},
   "outputs": [
    {
     "output_type": "execute_result",
     "data": {
      "text/plain": [
       "      ATS0  ATD0  PULS0  ATS1  ATD1  PULS1  ATS2  ATD2  PULS2  ATS3  ...  \\\n",
       "0      114    65     93   113    73    117   116    70    109   125  ...   \n",
       "1      132    85    104   137    76    115   123    74    104   122  ...   \n",
       "2      116    80     88   134    83    112   118    76     93   118  ...   \n",
       "3      133    77     96   133    78    119   134    70    103   128  ...   \n",
       "4      111    68    101   157    72    115   154    72     99   125  ...   \n",
       "...    ...   ...    ...   ...   ...    ...   ...   ...    ...   ...  ...   \n",
       "1104   140    79    119   147    82    149   138    74    138   127  ...   \n",
       "1105   138    78    102   157    78    119   154    81    111   142  ...   \n",
       "1106   158    97     96   143    85    125   154    90    106   150  ...   \n",
       "1107   115    90     95   120    82    112   144   105    105   140  ...   \n",
       "1108   124    94     84   138    91    110   146    92     98   140  ...   \n",
       "\n",
       "      PULS4  ATS5  ATD5  PULS5  QCL_1  QCL_2  QCL_3  QCL_4  QCL_5  QCL_6  \n",
       "0       108   112    69    101      1      5      3      2      5      9  \n",
       "1       110   117    74    103      1      5      3      6      1      5  \n",
       "2       107   109    72    100      1      4      4      2      5      9  \n",
       "3        92   116    63     96      1      4      4      5      1      5  \n",
       "4       106   111    68    104      1      4      4      5      1      5  \n",
       "...     ...   ...   ...    ...    ...    ...    ...    ...    ...    ...  \n",
       "1104    141   135    74    122      8     11     13      6      7      7  \n",
       "1105    107   136    73    103      8     12     13      8      7      7  \n",
       "1106     98   138    89    101      8     12      9      8      7      7  \n",
       "1107     98   118    90     96      8     12      9      6      1     10  \n",
       "1108     87   135    94     89      8     12      9      5      1     10  \n",
       "\n",
       "[1109 rows x 24 columns]"
      ],
      "text/html": "<div>\n<style scoped>\n    .dataframe tbody tr th:only-of-type {\n        vertical-align: middle;\n    }\n\n    .dataframe tbody tr th {\n        vertical-align: top;\n    }\n\n    .dataframe thead th {\n        text-align: right;\n    }\n</style>\n<table border=\"1\" class=\"dataframe\">\n  <thead>\n    <tr style=\"text-align: right;\">\n      <th></th>\n      <th>ATS0</th>\n      <th>ATD0</th>\n      <th>PULS0</th>\n      <th>ATS1</th>\n      <th>ATD1</th>\n      <th>PULS1</th>\n      <th>ATS2</th>\n      <th>ATD2</th>\n      <th>PULS2</th>\n      <th>ATS3</th>\n      <th>...</th>\n      <th>PULS4</th>\n      <th>ATS5</th>\n      <th>ATD5</th>\n      <th>PULS5</th>\n      <th>QCL_1</th>\n      <th>QCL_2</th>\n      <th>QCL_3</th>\n      <th>QCL_4</th>\n      <th>QCL_5</th>\n      <th>QCL_6</th>\n    </tr>\n  </thead>\n  <tbody>\n    <tr>\n      <th>0</th>\n      <td>114</td>\n      <td>65</td>\n      <td>93</td>\n      <td>113</td>\n      <td>73</td>\n      <td>117</td>\n      <td>116</td>\n      <td>70</td>\n      <td>109</td>\n      <td>125</td>\n      <td>...</td>\n      <td>108</td>\n      <td>112</td>\n      <td>69</td>\n      <td>101</td>\n      <td>1</td>\n      <td>5</td>\n      <td>3</td>\n      <td>2</td>\n      <td>5</td>\n      <td>9</td>\n    </tr>\n    <tr>\n      <th>1</th>\n      <td>132</td>\n      <td>85</td>\n      <td>104</td>\n      <td>137</td>\n      <td>76</td>\n      <td>115</td>\n      <td>123</td>\n      <td>74</td>\n      <td>104</td>\n      <td>122</td>\n      <td>...</td>\n      <td>110</td>\n      <td>117</td>\n      <td>74</td>\n      <td>103</td>\n      <td>1</td>\n      <td>5</td>\n      <td>3</td>\n      <td>6</td>\n      <td>1</td>\n      <td>5</td>\n    </tr>\n    <tr>\n      <th>2</th>\n      <td>116</td>\n      <td>80</td>\n      <td>88</td>\n      <td>134</td>\n      <td>83</td>\n      <td>112</td>\n      <td>118</td>\n      <td>76</td>\n      <td>93</td>\n      <td>118</td>\n      <td>...</td>\n      <td>107</td>\n      <td>109</td>\n      <td>72</td>\n      <td>100</td>\n      <td>1</td>\n      <td>4</td>\n      <td>4</td>\n      <td>2</td>\n      <td>5</td>\n      <td>9</td>\n    </tr>\n    <tr>\n      <th>3</th>\n      <td>133</td>\n      <td>77</td>\n      <td>96</td>\n      <td>133</td>\n      <td>78</td>\n      <td>119</td>\n      <td>134</td>\n      <td>70</td>\n      <td>103</td>\n      <td>128</td>\n      <td>...</td>\n      <td>92</td>\n      <td>116</td>\n      <td>63</td>\n      <td>96</td>\n      <td>1</td>\n      <td>4</td>\n      <td>4</td>\n      <td>5</td>\n      <td>1</td>\n      <td>5</td>\n    </tr>\n    <tr>\n      <th>4</th>\n      <td>111</td>\n      <td>68</td>\n      <td>101</td>\n      <td>157</td>\n      <td>72</td>\n      <td>115</td>\n      <td>154</td>\n      <td>72</td>\n      <td>99</td>\n      <td>125</td>\n      <td>...</td>\n      <td>106</td>\n      <td>111</td>\n      <td>68</td>\n      <td>104</td>\n      <td>1</td>\n      <td>4</td>\n      <td>4</td>\n      <td>5</td>\n      <td>1</td>\n      <td>5</td>\n    </tr>\n    <tr>\n      <th>...</th>\n      <td>...</td>\n      <td>...</td>\n      <td>...</td>\n      <td>...</td>\n      <td>...</td>\n      <td>...</td>\n      <td>...</td>\n      <td>...</td>\n      <td>...</td>\n      <td>...</td>\n      <td>...</td>\n      <td>...</td>\n      <td>...</td>\n      <td>...</td>\n      <td>...</td>\n      <td>...</td>\n      <td>...</td>\n      <td>...</td>\n      <td>...</td>\n      <td>...</td>\n      <td>...</td>\n    </tr>\n    <tr>\n      <th>1104</th>\n      <td>140</td>\n      <td>79</td>\n      <td>119</td>\n      <td>147</td>\n      <td>82</td>\n      <td>149</td>\n      <td>138</td>\n      <td>74</td>\n      <td>138</td>\n      <td>127</td>\n      <td>...</td>\n      <td>141</td>\n      <td>135</td>\n      <td>74</td>\n      <td>122</td>\n      <td>8</td>\n      <td>11</td>\n      <td>13</td>\n      <td>6</td>\n      <td>7</td>\n      <td>7</td>\n    </tr>\n    <tr>\n      <th>1105</th>\n      <td>138</td>\n      <td>78</td>\n      <td>102</td>\n      <td>157</td>\n      <td>78</td>\n      <td>119</td>\n      <td>154</td>\n      <td>81</td>\n      <td>111</td>\n      <td>142</td>\n      <td>...</td>\n      <td>107</td>\n      <td>136</td>\n      <td>73</td>\n      <td>103</td>\n      <td>8</td>\n      <td>12</td>\n      <td>13</td>\n      <td>8</td>\n      <td>7</td>\n      <td>7</td>\n    </tr>\n    <tr>\n      <th>1106</th>\n      <td>158</td>\n      <td>97</td>\n      <td>96</td>\n      <td>143</td>\n      <td>85</td>\n      <td>125</td>\n      <td>154</td>\n      <td>90</td>\n      <td>106</td>\n      <td>150</td>\n      <td>...</td>\n      <td>98</td>\n      <td>138</td>\n      <td>89</td>\n      <td>101</td>\n      <td>8</td>\n      <td>12</td>\n      <td>9</td>\n      <td>8</td>\n      <td>7</td>\n      <td>7</td>\n    </tr>\n    <tr>\n      <th>1107</th>\n      <td>115</td>\n      <td>90</td>\n      <td>95</td>\n      <td>120</td>\n      <td>82</td>\n      <td>112</td>\n      <td>144</td>\n      <td>105</td>\n      <td>105</td>\n      <td>140</td>\n      <td>...</td>\n      <td>98</td>\n      <td>118</td>\n      <td>90</td>\n      <td>96</td>\n      <td>8</td>\n      <td>12</td>\n      <td>9</td>\n      <td>6</td>\n      <td>1</td>\n      <td>10</td>\n    </tr>\n    <tr>\n      <th>1108</th>\n      <td>124</td>\n      <td>94</td>\n      <td>84</td>\n      <td>138</td>\n      <td>91</td>\n      <td>110</td>\n      <td>146</td>\n      <td>92</td>\n      <td>98</td>\n      <td>140</td>\n      <td>...</td>\n      <td>87</td>\n      <td>135</td>\n      <td>94</td>\n      <td>89</td>\n      <td>8</td>\n      <td>12</td>\n      <td>9</td>\n      <td>5</td>\n      <td>1</td>\n      <td>10</td>\n    </tr>\n  </tbody>\n</table>\n<p>1109 rows × 24 columns</p>\n</div>"
     },
     "metadata": {},
     "execution_count": 106
    }
   ],
   "source": [
    "data = pd.read_excel('data.xlsx')\n",
    "data_8 = pd.read_excel('Book2.xlsx')\n",
    "data_12 = pd.read_excel('Book3.xlsx')\n",
    "data_14 = pd.read_excel('Book4.xlsx')\n",
    "\n",
    "data_8_p = pd.read_excel('Book5.xlsx')\n",
    "data_12_p = pd.read_excel('Book6.xlsx')\n",
    "data_14_p = pd.read_excel('Book7.xlsx')\n",
    "\n",
    "data"
   ]
  },
  {
   "cell_type": "code",
   "execution_count": 107,
   "metadata": {},
   "outputs": [
    {
     "output_type": "execute_result",
     "data": {
      "text/plain": [
       "     ATS0   ATD0  PULS0    ATS1   ATD1   PULS1    ATS2   ATD2   PULS2    ATS3  \\\n",
       "0  120.76  76.15  97.99  127.58  78.15  122.40  128.89  77.45  110.31  123.78   \n",
       "1  111.77  68.86  70.10  120.05  69.16   93.62  117.67  67.86   74.82  113.67   \n",
       "2  116.50  83.00  69.00  126.00  81.50   96.50  125.00  82.50   70.50  116.50   \n",
       "3  110.89  69.93  84.34  118.74  71.28  108.92  116.38  69.85   93.88  110.89   \n",
       "4  141.94  82.39  81.30  168.59  87.00  101.15  154.72  80.57   87.18  145.21   \n",
       "5  126.52  76.43  82.49  138.00  78.49  106.57  134.33  76.27   90.90  127.60   \n",
       "6  130.42  75.41  67.13  144.46  76.45   86.46  138.25  74.16   71.33  131.89   \n",
       "7  138.33  86.76  98.29  152.68  88.58  121.27  148.58  88.11  110.08  141.82   \n",
       "\n",
       "    ATD3   PULS3    ATS4   ATD4   PULS4    ATS5   ATD5   PULS5  \n",
       "0  74.31  105.92  119.08  72.23  103.84  117.17  71.97  102.79  \n",
       "1  65.81   69.82  111.32  64.03   68.51  109.25  63.68   69.31  \n",
       "2  79.00   65.00  114.50  80.00   65.00  -66.00 -66.00  -66.00  \n",
       "3  66.94   87.68  108.96  65.86   87.32  107.56  65.27   86.17  \n",
       "4  77.70   86.03  141.72  76.29   83.87  138.33  75.03   82.62  \n",
       "5  73.23   86.40  124.49  71.59   85.22  122.11  71.00   84.41  \n",
       "6  71.19   67.32  129.58  71.05   67.23  126.58  69.38   66.96  \n",
       "7  85.44  105.61  137.44  83.56  104.67  134.24  82.67  103.05  "
      ],
      "text/html": "<div>\n<style scoped>\n    .dataframe tbody tr th:only-of-type {\n        vertical-align: middle;\n    }\n\n    .dataframe tbody tr th {\n        vertical-align: top;\n    }\n\n    .dataframe thead th {\n        text-align: right;\n    }\n</style>\n<table border=\"1\" class=\"dataframe\">\n  <thead>\n    <tr style=\"text-align: right;\">\n      <th></th>\n      <th>ATS0</th>\n      <th>ATD0</th>\n      <th>PULS0</th>\n      <th>ATS1</th>\n      <th>ATD1</th>\n      <th>PULS1</th>\n      <th>ATS2</th>\n      <th>ATD2</th>\n      <th>PULS2</th>\n      <th>ATS3</th>\n      <th>ATD3</th>\n      <th>PULS3</th>\n      <th>ATS4</th>\n      <th>ATD4</th>\n      <th>PULS4</th>\n      <th>ATS5</th>\n      <th>ATD5</th>\n      <th>PULS5</th>\n    </tr>\n  </thead>\n  <tbody>\n    <tr>\n      <th>0</th>\n      <td>120.76</td>\n      <td>76.15</td>\n      <td>97.99</td>\n      <td>127.58</td>\n      <td>78.15</td>\n      <td>122.40</td>\n      <td>128.89</td>\n      <td>77.45</td>\n      <td>110.31</td>\n      <td>123.78</td>\n      <td>74.31</td>\n      <td>105.92</td>\n      <td>119.08</td>\n      <td>72.23</td>\n      <td>103.84</td>\n      <td>117.17</td>\n      <td>71.97</td>\n      <td>102.79</td>\n    </tr>\n    <tr>\n      <th>1</th>\n      <td>111.77</td>\n      <td>68.86</td>\n      <td>70.10</td>\n      <td>120.05</td>\n      <td>69.16</td>\n      <td>93.62</td>\n      <td>117.67</td>\n      <td>67.86</td>\n      <td>74.82</td>\n      <td>113.67</td>\n      <td>65.81</td>\n      <td>69.82</td>\n      <td>111.32</td>\n      <td>64.03</td>\n      <td>68.51</td>\n      <td>109.25</td>\n      <td>63.68</td>\n      <td>69.31</td>\n    </tr>\n    <tr>\n      <th>2</th>\n      <td>116.50</td>\n      <td>83.00</td>\n      <td>69.00</td>\n      <td>126.00</td>\n      <td>81.50</td>\n      <td>96.50</td>\n      <td>125.00</td>\n      <td>82.50</td>\n      <td>70.50</td>\n      <td>116.50</td>\n      <td>79.00</td>\n      <td>65.00</td>\n      <td>114.50</td>\n      <td>80.00</td>\n      <td>65.00</td>\n      <td>-66.00</td>\n      <td>-66.00</td>\n      <td>-66.00</td>\n    </tr>\n    <tr>\n      <th>3</th>\n      <td>110.89</td>\n      <td>69.93</td>\n      <td>84.34</td>\n      <td>118.74</td>\n      <td>71.28</td>\n      <td>108.92</td>\n      <td>116.38</td>\n      <td>69.85</td>\n      <td>93.88</td>\n      <td>110.89</td>\n      <td>66.94</td>\n      <td>87.68</td>\n      <td>108.96</td>\n      <td>65.86</td>\n      <td>87.32</td>\n      <td>107.56</td>\n      <td>65.27</td>\n      <td>86.17</td>\n    </tr>\n    <tr>\n      <th>4</th>\n      <td>141.94</td>\n      <td>82.39</td>\n      <td>81.30</td>\n      <td>168.59</td>\n      <td>87.00</td>\n      <td>101.15</td>\n      <td>154.72</td>\n      <td>80.57</td>\n      <td>87.18</td>\n      <td>145.21</td>\n      <td>77.70</td>\n      <td>86.03</td>\n      <td>141.72</td>\n      <td>76.29</td>\n      <td>83.87</td>\n      <td>138.33</td>\n      <td>75.03</td>\n      <td>82.62</td>\n    </tr>\n    <tr>\n      <th>5</th>\n      <td>126.52</td>\n      <td>76.43</td>\n      <td>82.49</td>\n      <td>138.00</td>\n      <td>78.49</td>\n      <td>106.57</td>\n      <td>134.33</td>\n      <td>76.27</td>\n      <td>90.90</td>\n      <td>127.60</td>\n      <td>73.23</td>\n      <td>86.40</td>\n      <td>124.49</td>\n      <td>71.59</td>\n      <td>85.22</td>\n      <td>122.11</td>\n      <td>71.00</td>\n      <td>84.41</td>\n    </tr>\n    <tr>\n      <th>6</th>\n      <td>130.42</td>\n      <td>75.41</td>\n      <td>67.13</td>\n      <td>144.46</td>\n      <td>76.45</td>\n      <td>86.46</td>\n      <td>138.25</td>\n      <td>74.16</td>\n      <td>71.33</td>\n      <td>131.89</td>\n      <td>71.19</td>\n      <td>67.32</td>\n      <td>129.58</td>\n      <td>71.05</td>\n      <td>67.23</td>\n      <td>126.58</td>\n      <td>69.38</td>\n      <td>66.96</td>\n    </tr>\n    <tr>\n      <th>7</th>\n      <td>138.33</td>\n      <td>86.76</td>\n      <td>98.29</td>\n      <td>152.68</td>\n      <td>88.58</td>\n      <td>121.27</td>\n      <td>148.58</td>\n      <td>88.11</td>\n      <td>110.08</td>\n      <td>141.82</td>\n      <td>85.44</td>\n      <td>105.61</td>\n      <td>137.44</td>\n      <td>83.56</td>\n      <td>104.67</td>\n      <td>134.24</td>\n      <td>82.67</td>\n      <td>103.05</td>\n    </tr>\n  </tbody>\n</table>\n</div>"
     },
     "metadata": {},
     "execution_count": 107
    }
   ],
   "source": [
    "data_8"
   ]
  },
  {
   "cell_type": "code",
   "execution_count": 108,
   "metadata": {
    "tags": []
   },
   "outputs": [],
   "source": [
    "def vals(df, k, clust_name, clust_num):\n",
    "    dt = df[df[clust_name] == clust_num]\n",
    "    dt = dt.loc[:, 'ATS0':'PULS5']\n",
    "    dt = (dt-k.iloc[clust_num-1])**2\n",
    "    return dt.values.sum()/len(dt.index)\n",
    "    \n",
    "def clust(k, clust_name):\n",
    "    nm = len(k.index)\n",
    "    sum = 0\n",
    "    for i in range(nm):\n",
    "        sum += vals(data, k, clust_name, i+1)\n",
    "    return sum/nm\n",
    "\n",
    "def div(k, i, j):\n",
    "    return ((k.iloc[i-1]-k.iloc[j-1])**2).sum()\n",
    "\n",
    "def divider(k):\n",
    "    nm = len(k.index)\n",
    "    sum = 0\n",
    "    for i in range(1,nm):\n",
    "        for j in range(i+1,nm):\n",
    "            sum += div(k, i, j)\n",
    "    return sum / (math.factorial(nm)/(math.factorial(2)*math.factorial(nm-2)))\n"
   ]
  },
  {
   "cell_type": "code",
   "execution_count": 109,
   "metadata": {},
   "outputs": [
    {
     "output_type": "stream",
     "name": "stdout",
     "text": [
      "Separability test on full data\n8 clusters test: 0.06530318272831062\n12 clusters test: 0.06923849980653476\n14 clusters test: 0.07246956772502565\n"
     ]
    }
   ],
   "source": [
    "print('Separability test on full data')\n",
    "print('8 clusters test:', clust(data_8, 'QCL_1') / divider(data_8))\n",
    "print('12 clusters test:', clust(data_12, 'QCL_2') / divider(data_12))\n",
    "print('14 clusters test:', clust(data_14, 'QCL_3') / divider(data_14))"
   ]
  },
  {
   "source": [
    "Как видим из результатов теста (по минимальному значению) 8 кластеров является оптимальным вариантом разбиения данных."
   ],
   "cell_type": "markdown",
   "metadata": {}
  },
  {
   "cell_type": "code",
   "execution_count": 110,
   "metadata": {},
   "outputs": [
    {
     "output_type": "stream",
     "name": "stdout",
     "text": [
      "Separability test on part data\n8 clusters test: 0.04633573597975933\n12 clusters test: 0.05421814964411887\n14 clusters test: 0.05837998132013214\n"
     ]
    }
   ],
   "source": [
    "data.drop(['ATS3','ATD3','PULS3','ATS4','ATD4','PULS4'],inplace=True, axis=1)\n",
    "\n",
    "print('Separability test on part data')\n",
    "print('8 clusters test:', clust(data_8_p, 'QCL_4') / divider(data_8_p))\n",
    "print('12 clusters test:', clust(data_12_p, 'QCL_5') / divider(data_12_p))\n",
    "print('14 clusters test:', clust(data_14_p, 'QCL_6') / divider(data_14_p))"
   ]
  },
  {
   "source": [
    "Так как не брались во внимание промежуточные данные теста ФСССС, результаты стали еще точнее. Так же 8 кластеров остается оптимальным вариантом."
   ],
   "cell_type": "markdown",
   "metadata": {}
  }
 ]
}